{
 "cells": [
  {
   "cell_type": "code",
   "execution_count": 14,
   "metadata": {},
   "outputs": [],
   "source": [
    "import numpy as np\n",
    "\n",
    "r = 1\n",
    "min_dist = 0.1\n",
    "\n"
   ]
  },
  {
   "cell_type": "code",
   "execution_count": 25,
   "metadata": {},
   "outputs": [
    {
     "name": "stdout",
     "output_type": "stream",
     "text": [
      "<__main__.Avatar object at 0x7f22f59c1c00>\n",
      "<__main__.Avatar object at 0x7f22f59c2d10>\n",
      "<__main__.Avatar object at 0x7f22f59c1c30>\n"
     ]
    }
   ],
   "source": [
    "class Avatar:\n",
    "    def __init__(self,**kwargs):\n",
    "        self.name = kwargs['name']\n",
    "        self.surname = kwargs['surname']\n",
    "        self.nickname = kwargs['nickname']\n",
    "        self.img = kwargs['img']\n",
    "        self.dist = kwargs['dist']\n",
    "        self.xy = kwargs['xy']\n",
    "\n",
    "friends = set()\n",
    "\n",
    "friends.add(Avatar(name = \"Gesù\", surname = \"Di Nazaret\", nickname = \"Jesoo\", img = \"./img/jesus.png\", dist = min_dist, xy = None))\n",
    "friends.add(Avatar(name = \"Teresa\", surname = \"Raft\", nickname = \"Teresa\", img = \"./img/teresa.png\", dist = min_dist, xy = None))\n",
    "friends.add(Avatar(name = \"Katrina\", surname = \"Klösel\", nickname = \"Kati\", img = \"./img/koala.png\", dist = min_dist, xy = None))\n",
    "\n",
    "\n",
    "\n",
    "for friend in friends:\n",
    "    print(friend)"
   ]
  },
  {
   "cell_type": "code",
   "execution_count": 28,
   "metadata": {},
   "outputs": [
    {
     "name": "stdout",
     "output_type": "stream",
     "text": [
      "(0.1, 0.0)\n",
      "(-0.04161468365471424, 0.09092974268256818)\n",
      "(-0.06536436208636119, -0.07568024953079283)\n"
     ]
    }
   ],
   "source": [
    "def calculate_coordinates(r,avatars):\n",
    "    n = len(avatars)\n",
    "    alpha = round(2*np.pi/n)\n",
    "    for i,avatar in enumerate(avatars):\n",
    "        angle = i*alpha\n",
    "        r_hat = r*avatar.dist\n",
    "        x = r_hat*np.cos(angle).item()\n",
    "        y = r_hat*np.sin(angle).item()\n",
    "        avatar.xy = (x,y)\n",
    "    return None\n",
    "\n",
    "calculate_coordinates(r,friends)\n",
    "for friend in friends:\n",
    "    print(friend.xy)"
   ]
  },
  {
   "cell_type": "code",
   "execution_count": 6,
   "metadata": {},
   "outputs": [],
   "source": [
    "\n",
    "def generate_buttons():\n",
    "    for j,co in enumerate(coordinates):\n",
    "                size = 40\n",
    "                b = ImageButton(source = \"./img/foto_new.png\",  pos_hint={'x':0.5+(co[0]), 'y':0.5+(co[1])}, size_hint = (None,None),size = (dp(size),dp(size)),avatar = avatars[j])\n",
    "                self.add_widget(b)"
   ]
  },
  {
   "cell_type": "code",
   "execution_count": null,
   "metadata": {},
   "outputs": [],
   "source": []
  }
 ],
 "metadata": {
  "kernelspec": {
   "display_name": "Python 3",
   "language": "python",
   "name": "python3"
  },
  "language_info": {
   "codemirror_mode": {
    "name": "ipython",
    "version": 3
   },
   "file_extension": ".py",
   "mimetype": "text/x-python",
   "name": "python",
   "nbconvert_exporter": "python",
   "pygments_lexer": "ipython3",
   "version": "3.10.12"
  },
  "orig_nbformat": 4
 },
 "nbformat": 4,
 "nbformat_minor": 2
}
