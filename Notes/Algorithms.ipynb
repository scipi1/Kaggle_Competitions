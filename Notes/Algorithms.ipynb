{
 "cells": [
  {
   "cell_type": "markdown",
   "id": "6943a3a5-b3a2-4f8b-9293-e0253b65cf80",
   "metadata": {},
   "source": [
    "# Algorithms\n",
    "\n",
    "To visualize your code https://cscircles.cemc.uwaterloo.ca/visualize \n",
    "\n",
    "To visualize algorithms with animations https://visualgo.net/en\n",
    "\n",
    "### Challenge of 100 Doors\n",
    "- There are 100 doors in a row initially closed\n",
    "- You can make 100 passes by the doors\n",
    "  - On the first pass, you visit every door in sequence and toggle its state (if close> set open, if open > set close)\n",
    "  - On the second pass, you only visit every second door (2,4,6,...) and toggle it\n",
    "  - On the third pass, you only visit every third door (3,6,9,...) and toggle it\n",
    "  - And so on for 100 times till the 100th pass\n",
    "\n",
    "Which doors are open at the end of the process?\n",
    "\n",
    "In any algorithmic problem, a crucial step is to decide how are we going to represent the data. In this case, a list of boolean is suitable, with False to indicate a closed door and True for an open one."
   ]
  },
  {
   "cell_type": "code",
   "execution_count": null,
   "id": "283f0cbf-8076-4487-ae6f-1545c823f4db",
   "metadata": {},
   "outputs": [],
   "source": [
    "doors = [False] * 101\n",
    "\n",
    "for i in range(1,101):\n",
    "    for j in range(i,101,i):\n",
    "        doors[j] = not doors[j]\n",
    "\n",
    "for i in range(1,101):\n",
    "    if doors[i] == True:\n",
    "        print(i, end =\",\")\n",
    "\n"
   ]
  },
  {
   "cell_type": "markdown",
   "id": "0a8da92d-f69e-4d40-a465-53b089331645",
   "metadata": {},
   "source": [
    "### Fizz Buzz\n",
    "- Count aloud from 1 to 100 but each time the number is\n",
    "  - a multiple of 3, replace the word with \"fizz\"\n",
    "  - a multiple of 5, replace the word with \"buzz\"\n",
    "  - a multiple of 3 and 5, replace the word with \"fizz, buzz\"\n",
    " \n",
    "For this we sill need the modulus operator % that gives us the rest of a division\n",
    "\n",
    "__Tipp__:  \n",
    "The fizz-buzzness requires both fizzness and buzzness and have to be carefully placed at the beginning of the if statements."
   ]
  },
  {
   "cell_type": "code",
   "execution_count": null,
   "id": "3228155a-a47e-4a40-bd71-c5fb0d1dc522",
   "metadata": {},
   "outputs": [],
   "source": [
    "v = []\n",
    "for i in range(1,101):\n",
    "    if i % 3 == 0:\n",
    "        if i % 5 == 0:\n",
    "            v.append(\"fizz,buzz\")\n",
    "        else:\n",
    "            v.append(\"fizz\")\n",
    "    elif i % 5 == 0:\n",
    "        v.append(\"buzz\")\n",
    "    else:\n",
    "        v.append(i)\n",
    "    print(v[i-1],end = \", \")"
   ]
  },
  {
   "cell_type": "markdown",
   "id": "1448b653-584a-491e-b743-deab1efe060e",
   "metadata": {},
   "source": [
    "## Brute Force Algorithm\n",
    "Is when we use all combinations to find a specifi one, and it's not so efficient.\n",
    "\n",
    "### Linear Search\n",
    "Suppose you want to find a value in a list. \n",
    "- You start from i = 0 and go on each step i += i+1. \n",
    "- If you find the value, exit"
   ]
  },
  {
   "cell_type": "code",
   "execution_count": null,
   "id": "8b929a44-77a6-4fe5-95c9-696e3fdaed96",
   "metadata": {},
   "outputs": [],
   "source": [
    "def linear_search(data, target):\n",
    "    result = -1\n",
    "    for i,item in enumerate(data):\n",
    "        if item == target:\n",
    "            result = i+1\n",
    "\n",
    "    return result\n",
    "\n",
    "data = [4, 5, 2, 7, 1, 8]\n",
    "target = 1\n",
    "\n",
    "result = linear_search(data,target)\n",
    "if result == -1:\n",
    "    print(\"Item not found.\")\n",
    "else:\n",
    "    print(f\"Item found at position {result}.\")"
   ]
  },
  {
   "cell_type": "markdown",
   "id": "a4f34779-5b7c-4e9b-897b-1284b161b790",
   "metadata": {},
   "source": [
    "### Selection Sort\n",
    "It's a very easy sorting algorithm that can use a storing vector or can be performed in place.\n",
    "- find the smallest element in the array and exchange it with the one at the 0-index\n",
    "- find the second smallest element and exchange with the one at the 1-index\n",
    "- continue till the array is sorted\n",
    "\n",
    "**Tipp:**\n",
    "\n",
    "We will use the find_min algorithm:\n",
    "- Set as min the first element (i = 0) of a list\n",
    "- Scan each other element (i = range(1,N)) through the list\n",
    "  - If the element < min_element ---> set min_element = element"
   ]
  },
  {
   "cell_type": "code",
   "execution_count": 27,
   "id": "85b30fd3-eece-45b4-8b6d-d21727bdc242",
   "metadata": {},
   "outputs": [
    {
     "data": {
      "text/plain": [
       "4"
      ]
     },
     "execution_count": 27,
     "metadata": {},
     "output_type": "execute_result"
    }
   ],
   "source": [
    "data = [4, 5, 2, 7, 1, 8]\n",
    "def find_min(data):\n",
    "    min_index = 0\n",
    "\n",
    "    for i in range(len(data)):\n",
    "        if data[i] < data[min_index]:\n",
    "            min_index = i\n",
    "    \n",
    "    return min_index\n",
    "\n",
    "find_min(data)"
   ]
  },
  {
   "cell_type": "code",
   "execution_count": 53,
   "id": "f4fa4281-dc92-4699-b3e8-2a24627390af",
   "metadata": {},
   "outputs": [
    {
     "data": {
      "text/plain": [
       "[1, 2, 4, 5, 7, 8]"
      ]
     },
     "execution_count": 53,
     "metadata": {},
     "output_type": "execute_result"
    }
   ],
   "source": [
    "data = [4, 5, 2, 7, 1, 8]\n",
    "def selection_sort(data):\n",
    "\n",
    "    \n",
    "    for i in range(len(data)):\n",
    "        min_index = i\n",
    "        for j in range(i+1, len(data)):\n",
    "            if data[j] < data[i]:\n",
    "                min_index = j\n",
    "                \n",
    "                data[i], data[min_index] = data[min_index], data[i]\n",
    "    return data\n",
    "        \n",
    "selection_sort(data)\n"
   ]
  },
  {
   "cell_type": "markdown",
   "id": "7b512e57-c2a9-4674-b91e-7f6c0ee57581",
   "metadata": {},
   "source": [
    "## Intoduction to analysis of time-space complexity\n",
    "Note that complexity is the opposite of efficiency and tells us how slow an algorithm is, in terms of\n",
    "- time: how much time is needed to perform the task\n",
    "- space: how much memory space is needed to perform the task\n",
    "\n",
    "### Time-complexity\n",
    "Count how many basic operations the algorithm has to perform (operations are: assignment, arithmetic operations, comparison statements, calling a function, return statements)\n",
    "\n",
    "Example:\n",
    "\n",
    "<code/> \n",
    "\n",
    "n = 100             # Assigment statements 1 time\n",
    "count = 0           # Assigment statements 1 time\n",
    "while count < n:    # Comparison statement n times\n",
    "    count += 1      # Arithmetic operation (and assignment!!) n times + n times\n",
    "    print(count)    # Output statement n times\n",
    "    \n",
    "</code>                 \n",
    " \n",
    "In total we have 4n + 2 basic operations.\n",
    "\n",
    "### Big-O Notation\n",
    "It's a way to express the *upper bound* on the execution time or space requirements of an algorithm.\n",
    "If a function $f(n) \\in O(g(n))$ means that beyond a certain point, it's values are less than some constant multiple of $g(n)$.\n",
    "\n",
    "\n",
    "According to the definition, in determining the complexity of an algorithm, we throw away every constant **and** we consider only the largest term. Examples: \n",
    "\n",
    "- $2n$ operations --> $O(n)$\n",
    "- $200$ operations --> $O(1)$\n",
    "- $500n+100$ operations --> $O(n)$\n",
    "- $3n²+40n+400$ operations --> $O(n²)$\n",
    "\n",
    "The example above with the while loop is therefore $O(n)$\n",
    "\n",
    "Other notations are:\n",
    "- Big Omega: defines a *lower bound*\n",
    "- Big Theta: defines a *stricht bound*\n",
    "\n",
    "Time complexity for common structures considering iterating through n items:\n",
    "- for loop: $O(n)$ or *linear time*\n",
    "- a loop counter which increases as multiple of n $O(\\log{(n)})$\n",
    "- a nested for loop is $O(n²)$ or *quadratic time* (not ideal, try to reduce nested for loops)\n",
    "\n",
    "### Spece-complexity\n",
    "It's the amount of memory used by the algorithm\n",
    "\n",
    "Example 1:\n",
    "\n",
    "<code/>\n",
    "\n",
    "def my_sum(lst):\n",
    "    total = 0\n",
    "    for i in range(len(lst)):\n",
    "        total += list[i]\n",
    "    return total\n",
    "    \n",
    "</code> \n",
    "\n",
    "A part from the input, the function has only two variables: i and total. Therefore, the space complexity is $O(1)$\n",
    "\n",
    "Example 2:\n",
    "\n",
    "<code/>\n",
    "\n",
    "def double(lst):\n",
    "    new_list = []\n",
    "    for i in range(len(lst)):\n",
    "        new_list.append(list[i]*2)\n",
    "    return new_list\n",
    "    \n",
    "</code> \n",
    "\n",
    "In this case, we are creating a new_list, whose space requirements (length) increases with the size of the input n, thererfore, its space complexity is $O(n)$"
   ]
  },
  {
   "cell_type": "markdown",
   "id": "2aa79b1a-e025-4b8d-af4c-277b69e2da0e",
   "metadata": {},
   "source": [
    "## Greedy algorithm\n",
    "- makes local otimum choices\n",
    "- once the choice is made, it doesn't revise it\n",
    "\n",
    "The algorithm could be \"short sighted\" and miss the optimal solution and might even fail, but they have some advantages:\n",
    "- fast\n",
    "- easy to implement"
   ]
  },
  {
   "cell_type": "markdown",
   "id": "3051af4d-a5ba-4ad8-a20e-3192d0db7a5f",
   "metadata": {},
   "source": [
    "### Change-Making Problem\n",
    "Find the minimum number of coin from a set of denomination that add up to a given amount of money.\n",
    "\n",
    "set = [1cent,2cent,5cent 10cent, 20cent, 50cent,1€ ,2€]\n",
    "\n",
    "Whats's the minimum number of coins to make 24cent? --> [20 cent, 2 cent, 2 cent]"
   ]
  },
  {
   "cell_type": "code",
   "execution_count": 48,
   "id": "ea457e80-f7ff-4308-a559-4980ad1232c6",
   "metadata": {},
   "outputs": [
    {
     "data": {
      "text/plain": [
       "(1, [3])"
      ]
     },
     "execution_count": 48,
     "metadata": {},
     "output_type": "execute_result"
    }
   ],
   "source": [
    "def make_change(target):\n",
    "    #denominations = [200, 100, 50, 20, 10, 5, 2, 1] #they have to be in decreasing order\n",
    "    denominations = [3,2]\n",
    "    coin_count = 0\n",
    "    values = []\n",
    "    for coin in denominations:\n",
    "        while target >= coin:\n",
    "            target -= coin\n",
    "            values.append(coin)\n",
    "            coin_count += 1\n",
    "    \n",
    "    return coin_count, values\n",
    "\n",
    "make_change(4)"
   ]
  },
  {
   "cell_type": "markdown",
   "id": "e4f1d4b1-5131-4b6c-a2b5-ce97cc60d386",
   "metadata": {},
   "source": [
    "Here is an example of the greedy nature of the algorithm, preventing it to get to the optimal soilution. If we have just 3 cent and 2 cent, it will fail to get to 2x2cent"
   ]
  },
  {
   "cell_type": "code",
   "execution_count": 49,
   "id": "a2e22aa1-2485-440b-a58e-9270d3f1a9af",
   "metadata": {},
   "outputs": [
    {
     "data": {
      "text/plain": [
       "(1, [3])"
      ]
     },
     "execution_count": 49,
     "metadata": {},
     "output_type": "execute_result"
    }
   ],
   "source": [
    "def make_change(target):\n",
    "    #denominations = [200, 100, 50, 20, 10, 5, 2, 1] #they have to be in decreasing order\n",
    "    denominations = [3,2]\n",
    "    coin_count = 0\n",
    "    values = []\n",
    "    for coin in denominations:\n",
    "        while target >= coin:\n",
    "            target -= coin\n",
    "            values.append(coin)\n",
    "            coin_count += 1\n",
    "    \n",
    "    return coin_count, values\n",
    "\n",
    "make_change(4)"
   ]
  },
  {
   "cell_type": "markdown",
   "id": "dd562959-dff7-43a4-9a0f-c48341f5edd8",
   "metadata": {},
   "source": [
    "This is a variant but the algorithm is still greedy. Nevertheless, the order of the element in the denomination set doesn't matter this time."
   ]
  },
  {
   "cell_type": "code",
   "execution_count": 60,
   "id": "56285421-9585-45d8-987c-065d5de07de6",
   "metadata": {},
   "outputs": [
    {
     "data": {
      "text/plain": [
       "(1, [3])"
      ]
     },
     "execution_count": 60,
     "metadata": {},
     "output_type": "execute_result"
    }
   ],
   "source": [
    "def make_change_(target):\n",
    "    #denominations = [100, 2, 5, 10, 20, 50, 1, 200] #here the order doesn't matter\n",
    "    denominations = [3,2]\n",
    "    values = []\n",
    "    while target >= 2: #must be set the minimum of the denomination\n",
    "        new_set = [target/i for i in denominations]\n",
    "        for i,value in enumerate(new_set):\n",
    "            if value < 2 and value >= 1:\n",
    "                values.append(denominations[i])\n",
    "                target = target - denominations[i]\n",
    "    return len(values),values\n",
    "\n",
    "make_change_(4)"
   ]
  },
  {
   "cell_type": "markdown",
   "id": "785d1cb1-d3af-4d46-9db4-a3b365d463b1",
   "metadata": {},
   "source": [
    "### Dijkstra's Algorithm\n",
    "Find the shorthest path in a weighted graph from a vertex set to be the origin.\n",
    "- It is optimal\n",
    "- It used greedy approaches\n",
    "- Weights must be positive to guarantee correct results\n",
    "- It finds the shortest path to every node from the origin\n",
    "\n",
    "NetworkX Library to work with graphs\n",
    "\n",
    "Steps:\n",
    "1) Define two lists unvisited_vertex (containing all vertex but the initial) and visited_vertex (containing  only the initial vertex)\n",
    "2) Start from a origin vertex and calculate the distance from the the neighbouring unvisited_vertex\n",
    "3) Pick up the vertex with the shortest distance and move the vertex into the visited_vertex\n",
    "4) Now, we sit on the chosen vertex and we calculate the route distances through its neighbouring verteces which are still in the unvisited_verteces list\n",
    "5) Move to the vertex whose route will be the shortest.\n",
    "6) If the route is shorter than the saved one, overwrite it."
   ]
  },
  {
   "cell_type": "code",
   "execution_count": 70,
   "id": "c91abe84-c0d1-4fb1-b104-847aca65ee9b",
   "metadata": {},
   "outputs": [
    {
     "name": "stdout",
     "output_type": "stream",
     "text": [
      "[('U', 0), ('V', 6), ('W', 7), ('X', 8)]\n"
     ]
    }
   ],
   "source": [
    "INF = float(\"infinity\")\n",
    "\n",
    "#define a graph as dictionary representing the adjacency list\n",
    "graph = {\n",
    "    \"U\" : {\"V\":6,\"W\":7},\n",
    "    \"V\" : {\"U\":6,\"X\":10},\n",
    "    \"W\" : {\"U\":7,\"X\":1},\n",
    "    \"X\" : {\"W\":1,\"V\":10}\n",
    "}\n",
    "\n",
    "unvisited_min_distances = {vertex: INF for vertex in graph}\n",
    "visited_vertex = {}\n",
    "\n",
    "current_vertex = \"U\"\n",
    "unvisited_min_distances[current_vertex] = 0\n",
    "\n",
    "while len(unvisited_min_distances) > 0:\n",
    "    current_vertex, current_distance = sorted(unvisited_min_distances.items(), key = lambda x: x[1])[0]\n",
    "\n",
    "    for neighbour, neighbour_distance in graph[current_vertex].items():\n",
    "\n",
    "        if neighbour in visited_vertex:\n",
    "            continue\n",
    "\n",
    "        potential_new_distance = current_distance + neighbour_distance\n",
    "\n",
    "        if potential_new_distance < unvisited_min_distances[neighbour]:\n",
    "            unvisited_min_distances[neighbour] = potential_new_distance\n",
    "    \n",
    "    visited_vertex[current_vertex] = current_distance\n",
    "\n",
    "    del unvisited_min_distances[current_vertex]\n",
    "\n",
    "print(sorted(visited_vertex.items()))"
   ]
  },
  {
   "cell_type": "markdown",
   "id": "a5f03953-4fe0-4e4a-bd21-a6ab3a3b4472",
   "metadata": {},
   "source": [
    "### Ferrying Soldiers Puzzle\n",
    "- 20 soldiers must cross a river with no bridge\n",
    "- there are two sailors and a boat that could transport them across the river\n",
    "- Only one soldier or the two sailors fit in the boat\n",
    "- The soldiers have to cross the river, leaving the two boys in the boat on the side where they stated\n",
    "- Work out the minimum number of crossing that the boat must make\n",
    "\n",
    "Solution: 4 steps for each soldier are required\n",
    "1) the two sailors bring the boat on the other side, one soldier stays and the other brings the boat to the soldier side\n",
    "2) One soldier crosses the river alone\n",
    "3) The sailor, once the first soldier is arrived, returns the boat to the soldier side\n",
    "4) Arrived here, he takes his sailor friend and goes to the other side, reaching again the same state as the first step.\n",
    "\n",
    "### Decrease and Conquer\n",
    "It is a computational problem-solving tecniques, which takes the original problem, reduces to a smaller problem, which is easier to solve (N.B. Different from \"Divide and conquer\", which devides the problem into multiple smaller problems). Some examples are:\n",
    "- Binary Search\n",
    "- Euclidian Algorithm\n",
    "- Depth-first search (DFS)\n",
    "- Breadth-first search (BFS)\n",
    "- Insertion sort and selection sort\n",
    "How is the problem decreased?\n",
    "- By a constant, usually 1 (DFS, BFS)\n",
    "- By a factor, usually 2 (Binary Search, Fake-coin detection problem, Russian peasant multiplication)\n",
    "- Variable size decrease (Euclidian Algorithm)\n",
    "\n",
    "### Binary search\n",
    "It is a Decrease and Conquer algorithm because the size of the problem is reduced by a factor of 2. We have to find a target value in a list\n",
    "\n",
    "1) Data must be sorted\n",
    "2) We will have a LOW pointer at index 0 and a HIGH pointer at index the last index N-1\n",
    "3) We calculate the middle pointer MID = LOW + HIGH // 2\n",
    "   - If the target < value at MID, we will procede only with the first half and we set HIGH = MID and leave LOW\n",
    "   - If the target > value at MID, we will procede only with the second half and we set LOW = MID and leave HIGH\n",
    "\n",
    "\n",
    "4) Repeat untill the target value is found\n",
    "\n",
    "The Time Complexity of Binary Search is $O(\\log{n})$ which is very efficient! But...data must be sorted! Most sorting algoritms have Time Complexity of $O(n\\log{n})$ which is worse than $O(n)$. Therefore, Binary Search makes sense only if the data will be searched multiple times."
   ]
  },
  {
   "cell_type": "code",
   "execution_count": 79,
   "id": "ff91105b-d5f7-4995-bca2-384e2fc2d8ab",
   "metadata": {},
   "outputs": [
    {
     "data": {
      "text/plain": [
       "5"
      ]
     },
     "execution_count": 79,
     "metadata": {},
     "output_type": "execute_result"
    }
   ],
   "source": [
    "def binary_search(lst, target):\n",
    "\n",
    "    target_index = 0\n",
    "    n = len(lst)\n",
    "    hi = n-1\n",
    "    lo = 0\n",
    "    while lo <= hi:  #very clever condition\n",
    "        mid = (hi+lo)//2\n",
    "        if target == lst[mid]:\n",
    "            target_index = mid\n",
    "            break\n",
    "            \n",
    "        if target > lst[mid]:\n",
    "            lo = mid+1\n",
    "\n",
    "        else:\n",
    "            hi = mid-1\n",
    "\n",
    "\n",
    "    return target_index\n",
    "    \n",
    "lst = [1,3,4,5,6,7,8,9,10]\n",
    "target = 7\n",
    "binary_search(lst,target)"
   ]
  },
  {
   "cell_type": "markdown",
   "id": "475ffe58-5558-4638-bbc2-d693eb568b0f",
   "metadata": {},
   "source": [
    "Places to practice algorithms\n",
    "- Codewars\n",
    "- HackerRank\n",
    "- LeetCode"
   ]
  },
  {
   "cell_type": "markdown",
   "id": "a83d2ef4",
   "metadata": {},
   "source": [
    "### Quick Sort"
   ]
  },
  {
   "cell_type": "code",
   "execution_count": 1,
   "id": "bc49d425-74d9-4eed-87b9-4fdd8de84e5d",
   "metadata": {},
   "outputs": [
    {
     "data": {
      "text/plain": [
       "[-7, -1, 0, 3, 5, 12]"
      ]
     },
     "execution_count": 1,
     "metadata": {},
     "output_type": "execute_result"
    }
   ],
   "source": [
    "arr = [-1, 3, 12, -7, 5, 0]\n",
    "\n",
    "def partition(arr, l, r):\n",
    "    pivot = arr[r]\n",
    "    i = l-1\n",
    "    for j in range(len(arr)):\n",
    "        if arr[j] < pivot:\n",
    "            i += 1\n",
    "            arr[i],arr[j] = arr[j],arr[i]\n",
    "    arr[r], arr[i+1] = arr[i+1], arr[r]\n",
    "    return i+1  \n",
    "    \n",
    "partition(arr,0,5)\n",
    "\n",
    "def qs(arr,l,r):\n",
    "    if l >= r:\n",
    "        return True\n",
    "    \n",
    "    p = partition(arr,l,r)\n",
    "    \n",
    "    qs(arr,p+1,r)\n",
    "    qs(arr,l,p-1)\n",
    "\n",
    "qs(arr, 0, len(arr)-1)\n",
    "arr"
   ]
  },
  {
   "cell_type": "markdown",
   "id": "dd2ba080",
   "metadata": {},
   "source": [
    "# Coursera Algorithm course\n",
    "## Quick Find"
   ]
  },
  {
   "cell_type": "code",
   "execution_count": 15,
   "id": "452fc6e4",
   "metadata": {},
   "outputs": [
    {
     "name": "stdout",
     "output_type": "stream",
     "text": [
      "[0 1 2 3 4 5 6 7 8 9]\n",
      "False\n",
      "[0 1 6 3 4 5 6 7 8 9]\n",
      "True\n"
     ]
    }
   ],
   "source": [
    "import numpy as np\n",
    "#from numba import njit\n",
    "\n",
    "#@njit\n",
    "def index(array, item):\n",
    "    for idx, val in np.ndenumerate(array):\n",
    "        if val == item:\n",
    "            return idx[0]\n",
    "\n",
    "class qf_datastr():\n",
    "    def __init__(self,array):\n",
    "        self.array = array\n",
    "        self.id = self.array.copy()\n",
    "        \n",
    "    def find(self,p,q):\n",
    "        if p in self.array and q in self.array:\n",
    "            return self.id[index(self.array,q)] == self.id[index(self.array,p)]\n",
    "            \n",
    "    def union(self,p,q):\n",
    "        if p in self.array and q in self.array:\n",
    "            for el,ixd in np.ndenumerate(self.id):\n",
    "                if el[0] == p:\n",
    "                    self.id[ixd] = q\n",
    "                    \n",
    "                    \n",
    "arr = np.array([0,1,2,3,4,5,6,7,8,9])\n",
    "qf = qf_datastr(arr)\n",
    "print(qf.id)\n",
    "print(qf.find(2,6))\n",
    "qf.union(2,6)\n",
    "print(qf.id)\n",
    "print(qf.find(2,6))"
   ]
  },
  {
   "cell_type": "markdown",
   "metadata": {},
   "source": [
    "## Quick Union"
   ]
  },
  {
   "cell_type": "code",
   "execution_count": null,
   "metadata": {},
   "outputs": [],
   "source": [
    "\n",
    "class qu_datastr():\n",
    "    def __init__(self,array):\n",
    "        self.array = array\n",
    "        self.id = self.array.copy()\n",
    "    \n",
    "    def root(self,p):\n",
    "        while p != self.id[p]    \n",
    "    \n",
    "    def find(self,p,q):\n",
    "        if p in self.array and q in self.array:\n",
    "            return self.id[index(self.array,q)] == self.id[index(self.array,p)]\n",
    "            \n",
    "    def union(self,p,q):\n",
    "        if p in self.array and q in self.array:\n",
    "            for el,ixd in np.ndenumerate(self.id):\n",
    "                if el[0] == p:\n",
    "                    self.id[ixd] = q"
   ]
  },
  {
   "cell_type": "markdown",
   "id": "ff3ccf7e",
   "metadata": {},
   "source": [
    "# Random Algorithm questions"
   ]
  },
  {
   "cell_type": "markdown",
   "id": "365cd4c4",
   "metadata": {},
   "source": [
    "## Balanced Parenthesis\n",
    "\n",
    "par_string = \"}[()]{\"\n",
    "\n",
    "Is it balanced? YES\n",
    "\n",
    "par_string = \"}[()]\"\n",
    "\n",
    "Is it balanced? NO\n",
    "\n"
   ]
  },
  {
   "cell_type": "code",
   "execution_count": 38,
   "id": "665138bf",
   "metadata": {},
   "outputs": [
    {
     "name": "stdout",
     "output_type": "stream",
     "text": [
      "The parenthesis are not balanced, the error concerns <generator object <genexpr> at 0x7f5111fe2c70>\n"
     ]
    }
   ],
   "source": [
    "par_string = \"{[()]}(\"\n",
    "\n",
    "par_dic = {\"{\": 3,\n",
    "        \"}\": -3,\n",
    "        \"[\": 2,\n",
    "        \"]\": -2,\n",
    "        \"(\": 1,\n",
    "        \")\": -1\n",
    "        }\n",
    "\n",
    "\n",
    "check_sum = -100\n",
    "\n",
    "stack = []\n",
    "for element in par_string:\n",
    "    \n",
    "    stack.append(par_dic[element])\n",
    "    \n",
    "    if len(stack) > 1:\n",
    "        check_sum = stack[-1] + stack[-2]\n",
    "    \n",
    "    if check_sum == 0:\n",
    "        stack.pop(-1)\n",
    "        stack.pop(-1)\n",
    "        check_sum = -100\n",
    "\n",
    "if len(stack) == 0:\n",
    "    print(\"The parenthesis are balanced\")\n",
    "else:\n",
    "    print(\"The parenthesis are not balanced, the error concerns\", (k for k,v in par_dic.items() if v in stack))\n"
   ]
  },
  {
   "cell_type": "markdown",
   "id": "cbc3de0b",
   "metadata": {},
   "source": []
  },
  {
   "cell_type": "markdown",
   "id": "f97a3270",
   "metadata": {},
   "source": []
  },
  {
   "cell_type": "markdown",
   "id": "c5f1c85b",
   "metadata": {},
   "source": []
  }
 ],
 "metadata": {
  "kernelspec": {
   "display_name": "Python 3 (ipykernel)",
   "language": "python",
   "name": "python3"
  },
  "language_info": {
   "codemirror_mode": {
    "name": "ipython",
    "version": 3
   },
   "file_extension": ".py",
   "mimetype": "text/x-python",
   "name": "python",
   "nbconvert_exporter": "python",
   "pygments_lexer": "ipython3",
   "version": "3.10.12"
  }
 },
 "nbformat": 4,
 "nbformat_minor": 5
}
